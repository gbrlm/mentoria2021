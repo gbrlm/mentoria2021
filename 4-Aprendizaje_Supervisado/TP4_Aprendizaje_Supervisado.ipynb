{
  "nbformat": 4,
  "nbformat_minor": 0,
  "metadata": {
    "colab": {
      "name": "TP4_2021.ipynb",
      "provenance": [],
      "collapsed_sections": []
    },
    "kernelspec": {
      "display_name": "Python 3",
      "language": "python",
      "name": "python3"
    },
    "language_info": {
      "codemirror_mode": {
        "name": "ipython",
        "version": 3
      },
      "file_extension": ".py",
      "mimetype": "text/x-python",
      "name": "python",
      "nbconvert_exporter": "python",
      "pygments_lexer": "ipython3",
      "version": "3.7.6"
    }
  },
  "cells": [
    {
      "cell_type": "markdown",
      "metadata": {
        "id": "QcCkI6pO02VU"
      },
      "source": [
        "# Mentoría"
      ]
    },
    {
      "cell_type": "markdown",
      "metadata": {
        "id": "yy-TNr07zYnQ"
      },
      "source": [
        "## Análisis de datos sobre la violencia contra la mujer.\n",
        "\n",
        "### Introducción\n",
        "\n",
        "En la siguiente notebook se presentará la consigna a seguir para el cuarto práctico del proyecto, correspondiente a la materia Aprendizaje Automático Supervisado. El objetivo consiste en profundizar en la aplicación de métodos de aprendizaje supervisado aprendidos en el curso, así como también en métodos de ensemble learning. Esto, siempre a través de experimentos reproducibles y evaluando a su vez la conveniencia de uno u otro, así como la selección de diferentes hiperparámetros a partir del cálculo de las métricas pertinentes.\n",
        "\n",
        "A los fines de este práctico, consideraremos un problema de clasificación en multiclases con el fin de determinar si se reconocen distintos niveles de reportes  o caracterización de condiciones que estén relacionados a algunos reportes. Nuevamente, al igual que en el práctico anterior, será importante evaluar el desbalance de clases y qué decisiones tomaremos al respecto."
      ]
    },
    {
      "cell_type": "markdown",
      "metadata": {
        "id": "uDjuSEoe02Vb"
      },
      "source": [
        "## Consigna para Aprendizaje Supervizado"
      ]
    },
    {
      "cell_type": "markdown",
      "metadata": {
        "id": "0jQOnBbN02Vg"
      },
      "source": [
        "### Introducción"
      ]
    },
    {
      "cell_type": "markdown",
      "metadata": {
        "id": "YNOZDSqu02Vi"
      },
      "source": [
        "A los fines de realizar este práctico, se utilizará el dataset con el que se estaba trabajando anteriormente completo. La división entre train y test será realizada en este mismo práctico. A continuación se detallan los pasos a seguir para el preprocesamiento de los datos, prácticamente iguales a los del práctico anterior."
      ]
    },
    {
      "cell_type": "markdown",
      "metadata": {
        "id": "Mz1eVBbG02Xk"
      },
      "source": [
        "### I. Preprocesamiento"
      ]
    },
    {
      "cell_type": "markdown",
      "metadata": {
        "id": "hYDXEXCr02Xm"
      },
      "source": [
        "A los fines de realizar este práctico, se utilizará el dataset (o un subconjunto del mismo) ya preprocesado obtenido de los prácticos anteriores. La división entre train y test será realizada en este mismo práctico. A continuación se detallan los pasos a seguir para el preprocesamiento de los datos."
      ]
    },
    {
      "cell_type": "markdown",
      "metadata": {
        "id": "GTjl20OY02Xp"
      },
      "source": [
        "1. Obtención del Dataset\n",
        "Cargar el conjunto de entrenamiento original.\n",
        "\n",
        "2. Curación del dataset\n",
        "Inicialmente, con el objetivo de preparar los datos que alimentarán los modelos de aprendizaje automático (ML) propuestos, deberán aplicar lo aprendido en el práctico 2 necesario para el trabajo con los modelos propuestos. En esta etapa, nuevamente, pueden adicionar los atributos creados por ustedes que crean pertinentes a priori o que hayan encontrado interesantes por tener mayor correlación.\n",
        "\n",
        "3. Análisis del Balance de Clases\n",
        "¿Cómo luce el balance de clases? ¿Tomarán alguna decisión al respecto?\n",
        "\n",
        "4. Mezca Aleatória y División en Train/Test\n",
        "Finalmente, están en condiciones de dividir el dataset en Train y Test, utilizando para este último conjunto un 20% de los datos disponibles. Previo a esta división, es recomendable que mezclen los datos aleatoriamente. De este modo, deberán obtener cuatro conjuntos de datos, para cada uno de los datasets: X_train, X_test, y_train y y_test.\n"
      ]
    },
    {
      "cell_type": "markdown",
      "metadata": {
        "id": "5_0mosYY02X8"
      },
      "source": [
        "### II. Aplicación de Modelos de Aprendizaje Automático Supervisado\n"
      ]
    },
    {
      "cell_type": "markdown",
      "metadata": {
        "id": "EaGgQvAG02YH"
      },
      "source": [
        "\n",
        "Una vez finalizada la etapa de preprocesamiento, se propone implementar diferentes modelos de regresión para el dataset seleccionado, utilizando la librería Scikit-Learn (o la que consideren apropiada):\n",
        "\n",
        "Support Vector Machines (SVM), probando distintos kernels para la regresión.\n",
        "https://scikit-learn.org/stable/modules/svm.html\n",
        "\n",
        "Red neuronal.\n",
        "https://scikit-learn.org/stable/modules/neural_networks_supervised.html\n",
        "Para cada uno de ellos, se pide responder las siguientes consignas:\n",
        "\n",
        "Agregar vector de Bias, cuando lo crean pertinente. Cuándo hace falta y cuándo no? Por qué?\n",
        "De estos modelos, cuál creen que es el más adecuado para nuestro caso de aplicación? Creen que podrían aplicar otro?\n",
        "\n",
        "Finalmente, combinar los modelos en un clasificador por votos (pueden implementar VotingClassifier, del módulo de ensemble) o usar algún ensemble (pueden ver Random Forest o XGBoost), se justifican estas implementaciones?\n",
        "\n",
        "Elegir el modelo que consideren que mejor aplica a nuestro problema. Para ello, recuerden que los pasos a seguir en la selección pueden esquematizarse como sigue:\n",
        "\n",
        "1. Descripción de la Hipótesis\n",
        "¿Cuál es nuestro problema? ¿Cómo se caracteriza? ¿Cuál es la hipótesis?\n",
        "\n",
        "2. Selección de Regularizador\n",
        "¿Utilizarán algún regularizador?¿Cuál?\n",
        "\n",
        "3. Selección de Función de Costo\n",
        "¿Cuál será la función de costo utilizada?\n",
        "\n",
        "4. Justificación de las Selecciones\n",
        "¿Por qué eligieron el modelo, el regularizador y la función de costo previas?\n",
        "\n",
        "Finalmente, para el modelo selecionado:\n",
        "\n",
        "Utilizar el método Grid Search, o de búsqueda exahustiva, con cross-validation para profundizar en la búsqueda y selección de hiperparámetros (fine tuning).\n",
        "Calcular métricas sobre el conjunto de entrenamiento y de evaluación para los mejores parámetros obtenidos:\n",
        "\n",
        "https://scikit-learn.org/stable/modules/model_evaluation.html#multilabel-ranking-metrics\n",
        "\n",
        "https://scikit-learn.org/stable/modules/model_evaluation.html#classification-metrics\n",
        "\n",
        "¿Cuál consideran la métrica más apropiada para utilizar en nuestros modelos? ¿Por qué?\n"
      ]
    },
    {
      "cell_type": "markdown",
      "metadata": {
        "id": "bfH43hhZ02YJ"
      },
      "source": [
        "## Entregables\n"
      ]
    },
    {
      "cell_type": "markdown",
      "metadata": {
        "id": "dCoIIfZ902YM"
      },
      "source": [
        "El entregable de este práctico consiste en esta misma Notebook, pero con el preprocesamiento aplicado y los modelos implementados, agregando las explicaciones que crean pertinentes y las decisiones tomadas, en caso de corresponder.\n"
      ]
    }
  ]
}
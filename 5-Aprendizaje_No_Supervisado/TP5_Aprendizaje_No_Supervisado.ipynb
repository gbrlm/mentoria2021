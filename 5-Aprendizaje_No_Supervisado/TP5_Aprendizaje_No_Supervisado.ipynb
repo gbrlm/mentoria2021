{
  "nbformat": 4,
  "nbformat_minor": 0,
  "metadata": {
    "colab": {
      "name": "TP5_Aprendizaje_No_Supervisado.ipynb",
      "provenance": [],
      "collapsed_sections": []
    },
    "kernelspec": {
      "display_name": "Python 3",
      "language": "python",
      "name": "python3"
    },
    "language_info": {
      "codemirror_mode": {
        "name": "ipython",
        "version": 3
      },
      "file_extension": ".py",
      "mimetype": "text/x-python",
      "name": "python",
      "nbconvert_exporter": "python",
      "pygments_lexer": "ipython3",
      "version": "3.7.6"
    }
  },
  "cells": [
    {
      "cell_type": "markdown",
      "metadata": {
        "id": "QcCkI6pO02VU"
      },
      "source": [
        "# Mentoría"
      ]
    },
    {
      "cell_type": "markdown",
      "metadata": {
        "id": "yy-TNr07zYnQ"
      },
      "source": [
        "## Análisis de datos sobre la violencia contra la mujer.\n",
        "\n",
        "### Introducción\n",
        "\n",
        "En la siguiente notebook se presentará la consigna a seguir para el quinto práctico del proyecto, correspondiente a la materia Aprendizaje Automático No Supervisado. El objetivo consiste en aplicar distintas técnicas de análisis exploratorio de datos (EDA) al dataset, de modo de encontrar patrones sistematizables.\n",
        "\n",
        "Luego, una vez aplicadas las técnicas de aprendizaje no supervisado y del cálculo de las métricas pertinentes, podremos recurrir a las etiquetas de clases con el fin de contrastar los resultados obtenidos."
      ]
    },
    {
      "cell_type": "markdown",
      "metadata": {
        "id": "uDjuSEoe02Vb"
      },
      "source": [
        "## Consigna para Aprendizaje Supervizado"
      ]
    },
    {
      "cell_type": "markdown",
      "metadata": {
        "id": "0jQOnBbN02Vg"
      },
      "source": [
        "### Introducción"
      ]
    },
    {
      "cell_type": "markdown",
      "metadata": {
        "id": "YNOZDSqu02Vi"
      },
      "source": [
        "A los fines de realizar este práctico, se utilizará el dataset completo (o un subconjunto del mismo seleccionando algunas variables en función del tipo de violencia por ejemplo) ya preprocesado obtenido de los prácticos anteriores. A continuación se detallan los pasos a seguir para el preprocesamiento de los datos."
      ]
    },
    {
      "cell_type": "markdown",
      "metadata": {
        "id": "Mz1eVBbG02Xk"
      },
      "source": [
        "### I. Preprocesamiento"
      ]
    },
    {
      "cell_type": "markdown",
      "metadata": {
        "id": "hYDXEXCr02Xm"
      },
      "source": [
        ""
      ]
    },
    {
      "cell_type": "markdown",
      "metadata": {
        "id": "GTjl20OY02Xp"
      },
      "source": [
        "### 1. Obtención del Dataset\n",
        "\n",
        "Cargar el conjunto de entrenamiento seleccionado.\n",
        "\n",
        "2. Curación del dataset\n",
        "\n",
        "Inicialmente, con el objetivo de preparar los datos que alimentarán los modelos de aprendizaje no supervizado, deberán aplicar lo aprendido en el práctico 2 necesario para el trabajo con los modelos propuestos. Igual que en el práctico anterior decidiran si consideran necesario agregar alguna nueva variable creada por ustedes.\n",
        "\n",
        "3. Normalización de Atributos\n",
        "\n",
        "Es posible que sea necesario normalizar las features de nuestro dataset, dado que los algoritmos de clasificación no supervisada lo requieren. Aplicar al dataset la normalización de atributos que consideren adecuada.\n",
        "\n",
        "4. Mezca Aleatória y División en Train/Test\n",
        "\n",
        "Respecto a la división en Train/Test, dado que se trata de un algoritmo de aprendizaje automático no supervisado, pueden omitir esta división, ya que estamos buscando patrones ocultos en los datos que reflejen las causas latentes.\n"
      ]
    },
    {
      "cell_type": "markdown",
      "metadata": {
        "id": "5_0mosYY02X8"
      },
      "source": [
        "### II. Aplicación de Modelos de Aprendizaje Automático No Supervisado\n",
        "\n"
      ]
    },
    {
      "cell_type": "markdown",
      "metadata": {
        "id": "EaGgQvAG02YH"
      },
      "source": [
        "Una vez finalizada la etapa de preprocesamiento, se propone implementar, por un lado, una técnica de reducción de dimensionalidad para representar los datos como ya aplicaron en el práctico anterior y, por el otro, una técnica de clusterización.\n",
        "\n",
        "#### 1. Descomposivión de Variables: Principal Component Analysis\n",
        "\n",
        "Aplicar esta técnica de reducción de variables. A partir del análisis y la visualización de los datasets transformados por PCA, ¿es posible obtener alguna conlcusión?.\n",
        "\n",
        "Adicionalmente, existe una técnica similar llamada Factor Analysis ( [Factor Analysis en scikit-learn ](https://scikit-learn.org/stable/modules/generated/sklearn.decomposition.FactorAnalysis.html)). ¿Es factible aplicarla y obtener conclusiones?. Comparar con los resultados obtenidos previamente.\n",
        "\n",
        "#### 2. K-Means Clustering\n",
        "\n",
        "Aplicar K-Means tanto a los dataset originales como a los datasets transformados a partir de cualquiera de las técnicas anteriores.\n",
        "\n",
        "Explorar distintas soluciones de clustering con diferentes parámetros, como iteraciones, número de clusters o métricas de distancia, y compararlas. Finalmente, para el modelo seleccionado:\n",
        "\n",
        "    Calcular las métricas pertinentes sobre los clusters resultantes.\n",
        "    Aplicando el método de Elbow, ¿cuál sería la cantidad óptima de clusters?\n",
        "    Agregar a los dataset originales el cluster resultante de los modelos.\n",
        "    Tomar ejemplos aleatorios y pensar por qué están en un cluster y no en otro.\n",
        "    Calcular los centroides y tratar de ver si los elementos cerca de estos centroides comparten alguna característica.\n"
      ]
    },
    {
      "cell_type": "markdown",
      "metadata": {
        "id": "Re76yF2dP5nR"
      },
      "source": [
        "### III. Opcional - Tareas Adicionales\n",
        "Incluir clusters como una nueva feature en el modelo seleccionado en el práctico de aprendizaje supervisado.\n",
        "Probar los modelos con los nuevos datos disponibilizados.\n",
        "\n",
        "Obtener conclusiones de su aplicación."
      ]
    },
    {
      "cell_type": "markdown",
      "metadata": {
        "id": "bfH43hhZ02YJ"
      },
      "source": [
        "## Entregables\n"
      ]
    },
    {
      "cell_type": "markdown",
      "metadata": {
        "id": "dCoIIfZ902YM"
      },
      "source": [
        "El entregable de este práctico consiste en esta misma Notebook, pero con el preprocesamiento aplicado y los modelos implementados, agregando las explicaciones que crean pertinentes y las decisiones tomadas, en caso de corresponder.\n"
      ]
    }
  ]
}

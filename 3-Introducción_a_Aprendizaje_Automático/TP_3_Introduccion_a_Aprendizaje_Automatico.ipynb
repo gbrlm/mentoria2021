{
  "nbformat": 4,
  "nbformat_minor": 0,
  "metadata": {
    "colab": {
      "name": "TP3_2021.ipynb",
      "provenance": [],
      "collapsed_sections": []
    },
    "kernelspec": {
      "display_name": "Python 3",
      "language": "python",
      "name": "python3"
    },
    "language_info": {
      "codemirror_mode": {
        "name": "ipython",
        "version": 3
      },
      "file_extension": ".py",
      "mimetype": "text/x-python",
      "name": "python",
      "nbconvert_exporter": "python",
      "pygments_lexer": "ipython3",
      "version": "3.7.6"
    }
  },
  "cells": [
    {
      "cell_type": "markdown",
      "metadata": {
        "id": "QcCkI6pO02VU"
      },
      "source": [
        "# Mentoría"
      ]
    },
    {
      "cell_type": "markdown",
      "metadata": {
        "id": "yy-TNr07zYnQ"
      },
      "source": [
        "## Análisis de datos sobre la violencia contra la mujer.\n",
        "\n",
        "### Introducción\n",
        "\n",
        "En la siguiente notebook se presentará la consigna a seguir para el tercer práctico del proyecto, correspondiente a la materia Introducción al Aprendizaje Automático. El objetivo consiste en explorar la aplicación de diferentes métodos de aprendizaje supervisado aprendidos en el curso, a través de experimentos reproducibles, y evaluando a su vez la conveniencia de uno u otro, así como la selección de diferentes hiperparámetros a partir del cálculo de las métricas pertinentes."
      ]
    },
    {
      "cell_type": "markdown",
      "metadata": {
        "id": "uDjuSEoe02Vb"
      },
      "source": [
        "## Consigna para Introduccion al Aprendizaje Automático"
      ]
    },
    {
      "cell_type": "markdown",
      "metadata": {
        "id": "0jQOnBbN02Vg"
      },
      "source": [
        "### Introducción"
      ]
    },
    {
      "cell_type": "markdown",
      "metadata": {
        "id": "YNOZDSqu02Vi"
      },
      "source": [
        "En el caso de nuestro proyecto, originalmente se trata de un proyecto de clasificación/predicción. Sin embargo, a los fines de este práctico, lo transformaremos en un problema de clasificación binario, adaptando las el feature objetivo del dataset. Además, será importante evaluar el análisis a realizar sobre las variables categóricas y qué decisiones tomaremos al respecto."
      ]
    },
    {
      "cell_type": "markdown",
      "metadata": {
        "id": "Mz1eVBbG02Xk"
      },
      "source": [
        "### I. Preprocesamiento"
      ]
    },
    {
      "cell_type": "markdown",
      "metadata": {
        "id": "hYDXEXCr02Xm"
      },
      "source": [
        "A los fines de realizar este práctico, se utilizará el dataset (o un subconjunto del mismo) ya preprocesado obtenido de los prácticos anteriores. La división entre train y test será realizada en este mismo práctico. A continuación se detallan los pasos a seguir para el preprocesamiento de los datos."
      ]
    },
    {
      "cell_type": "markdown",
      "metadata": {
        "id": "GTjl20OY02Xp"
      },
      "source": [
        "1. Obtención del Dataset a trabajar\n",
        "\n",
        "Con el objetivo de preparar los datos que alimentarán los modelos de aprendizaje automático (ML) propuestos, deberán seleccionar si trabajan con el dataset completo o con los features que crean más relevantes para el modelo propuesto. Además en esta etapa, pueden adicionar los atributos que crean pertinentes a priori o que hayan encontrado interesantes por tener mayor correlación con la variable objetivo.\n",
        "\n",
        "2. Dataset para Problema de Clasificación Binario\n",
        "\n",
        "Comenzaremos trabajando con un problema de clasificación binario, aquí deberan definir una nueva variable objetivo que tenga valores 0 o 1 donde reporte por ejemplo si se registra algún tipo de violencia espécifica.\n",
        "Es decir, queremos diferenciar casos donde se reporta violencia de los que no se reporta. En base a esta definición, deben transformar el dataset para adaptarlo a un problema de clasifiación binario.\n",
        "\n",
        "3. Mezcla Aleatória y División en Train/Test\n",
        "\n",
        "Finalmente, están en condiciones de dividir el dataset en Train y Test, utilizando para este último conjunto un 20% de los datos disponibles. Previo a esta división, es recomendable que mezclen los datos aleatoriamente. De este modo, deberán obtener cuatro conjuntos de datos, para cada uno de los datasets: X_train, X_test, y_train y y_test.\n",
        "\n",
        "Recuerden que la ciencia de datos es un proceso circular, continuo y no lineal. Es decir, si los datos requieren de mayor procesamiento para satisfacer las necesidades de algoritmos de ML (cualesquiera de ellos), vamos a volver a la etapa inicial para, por ejemplo, crear nuevas features, tomar decisiones diferentes sobre valores faltantes o valores atípicos (outliers), descartar features, entre otras."
      ]
    },
    {
      "cell_type": "markdown",
      "metadata": {
        "id": "5_0mosYY02X8"
      },
      "source": [
        "### II. Aplicación de Modelos de Clasificación"
      ]
    },
    {
      "cell_type": "markdown",
      "metadata": {
        "id": "EaGgQvAG02YH"
      },
      "source": [
        "Una vez finalizada la etapa de preprocesamiento, se propone implementar diferentes modelos de clasificación para ambos datasets, utilizando la librería Scikit-Learn:\n",
        "\n",
        "    Perceptron. https://scikit-learn.org/stable/modules/linear_model.html#perceptron\n",
        "    Regresión Logística. https://scikit-learn.org/stable/modules/linear_model.html#logistic-regression\n",
        "    Árboles de clasificación. https://scikit-learn.org/stable/modules/tree.html#classification\n",
        "    \n",
        "    \n",
        "Para cada uno de ellos, se pide responder las siguientes consignas:\n",
        "\n",
        "    Utilizar dos features para graficar las clases y la frontera de decisión, siempre que sea posible.\n",
        "    Obtener accuracy o exactitud.\n",
        "\n",
        "De estos tres tipos de modelos: \n",
        "¿Cuál creen que es el más adecuado para nuestro caso de aplicación?\n",
        "¿Creen recomendable otro método para este problema?\n",
        "¿Qué deciciones tomaron sobre el tipo de variables trabajadas?\n",
        "\n",
        "\n",
        "Elegir el modelo que consideren que mejor aplica a nuestro problema. Para ello, recuerden que los pasos a seguir en la selección pueden esquematizarse como sigue:\n",
        "\n",
        "1. Descripción de la Hipótesis\n",
        "\n",
        "    ¿Cuál es nuestro problema? ¿Cómo se caracteriza? ¿Cuál es la hipótesis?\n",
        "\n",
        "\n",
        "2. Selección de Regularizador\n",
        "\n",
        "    ¿Utilizarán algún regularizador?¿Cuál?\n",
        "\n",
        "\n",
        "3. Selección de Función de Costo\n",
        "\n",
        "    ¿Cuál será la función de costo utilizada?\n",
        "\n",
        "\n",
        "4. Justificación de las Selecciones\n",
        "\n",
        "    ¿Por qué eligieron el modelo, el regularizador y la función de costo previas?\n",
        "\n",
        "\n",
        "Finalmente, para el modelo selecionado:\n",
        "\n",
        "    Utilizar el método Grid Search, o de búsqueda exahustiva, con cross-validation para profundizar en la búsqueda y selección de hiperparámetros.\n",
        "    Calcular métricas sobre el conjunto de entrenamiento y de evaluación para los mejores parámetros obtenidos:\n",
        "        Accuracy o exactitud\n",
        "        Reporte de clasificación\n",
        "        Confusion matrix o matriz de confusión (graficar como heatmap)\n",
        "        Curva ROC y área bajo la curva (AUC)."
      ]
    },
    {
      "cell_type": "markdown",
      "metadata": {
        "id": "bfH43hhZ02YJ"
      },
      "source": [
        "## Entregables\n"
      ]
    },
    {
      "cell_type": "markdown",
      "metadata": {
        "id": "dCoIIfZ902YM"
      },
      "source": [
        "El entregable de este práctico consiste en esta misma Notebook, pero con el preprocesamiento aplicado y los modelos implementados, agregando las explicaciones que crean pertinentes y las decisiones tomadas, en caso de corresponder.\n"
      ]
    }
  ]
}